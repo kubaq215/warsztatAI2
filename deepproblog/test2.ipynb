{
 "cells": [
  {
   "cell_type": "code",
   "execution_count": 4,
   "metadata": {},
   "outputs": [],
   "source": [
    "from typing import Iterator\n",
    "import numpy as np\n",
    "import os\n",
    "import torch\n",
    "from problog.logic import Term, Constant\n",
    "from deepproblog.dataset import Dataset\n",
    "from deepproblog.query import Query"
   ]
  },
  {
   "cell_type": "code",
   "execution_count": 5,
   "metadata": {},
   "outputs": [],
   "source": [
    "class SudokuCellDataset(Dataset):\n",
    "    \"\"\"\n",
    "    Each item in the dataset is a single cell (image + label).\n",
    "    Good for supervised training of digit recognition.\n",
    "    \"\"\"\n",
    "    def __init__(self, subset: str, puzzle_path: str, solution_path: str):\n",
    "        self.subset = subset\n",
    "\n",
    "        puzzle_files = sorted(f for f in os.listdir(puzzle_path) if f.endswith('.npy'))[:1000]\n",
    "        solution_files = sorted(f for f in os.listdir(solution_path) if f.endswith('.npy'))[:1000]\n",
    "\n",
    "        self.cells = []  # will hold (image_array, correct_digit, cell_id, puzzle_id)\n",
    "        puzzle_id = 0\n",
    "\n",
    "        for p_file, s_file in zip(puzzle_files, solution_files):\n",
    "            puzzle = np.load(os.path.join(puzzle_path, p_file), allow_pickle=True)\n",
    "            solution = np.load(os.path.join(solution_path, s_file), allow_pickle=True)\n",
    "            \n",
    "            # Both puzzle & solution are 9x9. solution[i][j] is the correct digit for puzzle[i][j].\n",
    "            for i in range(9):\n",
    "                for j in range(9):\n",
    "                    # If puzzle[i][j] is None, we typically define it as zero-image.\n",
    "                    if puzzle[i][j] is None:\n",
    "                        puzzle[i][j] = np.ones((28,28), dtype=np.float32)\n",
    "                    else:\n",
    "                        puzzle[i][j] = puzzle[i][j].astype(np.float32)\n",
    "                    puzzle[i][j] /= 255.0\n",
    "\n",
    "                    # solution[i][j] is the label (1..9 or 0 if blank?)\n",
    "                    if solution[i][j] is not None:\n",
    "                        label_digit = int(solution[i][j])  # e.g. 1..9\n",
    "                    else:\n",
    "                        label_digit = 0\n",
    "\n",
    "                    # We'll store each cell as a separate training example\n",
    "                    cell_id = puzzle_id*81 + (i*9 + j)\n",
    "                    self.cells.append((puzzle[i][j], label_digit, cell_id, puzzle_id))\n",
    "\n",
    "            puzzle_id += 1\n",
    "\n",
    "    def __len__(self):\n",
    "        return len(self.cells)\n",
    "\n",
    "    def to_query(self, index: int) -> Query:\n",
    "        \"\"\"\n",
    "        Construct a query for this single cell:\n",
    "          digit(tensor(subset, cell_id), CorrectDigit)\n",
    "        \"\"\"\n",
    "        img_array, label_digit, cell_id, _ = self.cells[index]\n",
    "\n",
    "        # The Prolog side sees \"digit(ImageTerm, Label)\" with domain 1..9\n",
    "        image_term = Term(\"tensor\", Term(self.subset, Constant(cell_id)))\n",
    "        label = Constant(label_digit)\n",
    "        return Query(Term('digit', image_term, label))\n",
    "\n",
    "    def __getitem__(self, item):\n",
    "        \"\"\"Used by DeepProbLog to retrieve the actual tensor for 'tensor(subset, cell_id)'.\"\"\"\n",
    "        img_array, label_digit, cell_id, _ = self.cells[int(item[0])]\n",
    "        # Return as 1×28×28 PyTorch tensor:\n",
    "        return torch.tensor(img_array).unsqueeze(0)"
   ]
  },
  {
   "cell_type": "code",
   "execution_count": 4,
   "metadata": {},
   "outputs": [
    {
     "ename": "NameError",
     "evalue": "name 'SudokuCellDataset' is not defined",
     "output_type": "error",
     "traceback": [
      "\u001b[0;31m---------------------------------------------------------------------------\u001b[0m",
      "\u001b[0;31mNameError\u001b[0m                                 Traceback (most recent call last)",
      "Cell \u001b[0;32mIn[1], line 42\u001b[0m\n\u001b[1;32m     39\u001b[0m model\u001b[38;5;241m.\u001b[39mset_engine(ExactEngine(model))\n\u001b[1;32m     41\u001b[0m \u001b[38;5;66;03m# Attach the dataset as a tensor source\u001b[39;00m\n\u001b[0;32m---> 42\u001b[0m train_data \u001b[38;5;241m=\u001b[39m \u001b[43mSudokuCellDataset\u001b[49m(\u001b[38;5;124m\"\u001b[39m\u001b[38;5;124mtrain\u001b[39m\u001b[38;5;124m\"\u001b[39m, \u001b[38;5;124m\"\u001b[39m\u001b[38;5;124m../mnist_sudoku_generator/dataset/images/puzzles/train\u001b[39m\u001b[38;5;124m\"\u001b[39m, \u001b[38;5;124m\"\u001b[39m\u001b[38;5;124m../mnist_sudoku_generator/dataset/arrays/puzzles/train\u001b[39m\u001b[38;5;124m\"\u001b[39m)\n\u001b[1;32m     43\u001b[0m model\u001b[38;5;241m.\u001b[39madd_tensor_source(\u001b[38;5;124m\"\u001b[39m\u001b[38;5;124mtrain\u001b[39m\u001b[38;5;124m\"\u001b[39m, train_data)\n",
      "\u001b[0;31mNameError\u001b[0m: name 'SudokuCellDataset' is not defined"
     ]
    }
   ],
   "source": [
    "import torch\n",
    "import torch.nn as nn\n",
    "from deepproblog.model import Model\n",
    "from deepproblog.network import Network\n",
    "from deepproblog.engines import ExactEngine\n",
    "\n",
    "class MNIST_Net(nn.Module):\n",
    "    def __init__(self):\n",
    "        super(MNIST_Net, self).__init__()\n",
    "        self.encoder = nn.Sequential(\n",
    "            nn.Conv2d(1, 6, 5),\n",
    "            nn.MaxPool2d(2, 2),\n",
    "            nn.ReLU(True),\n",
    "            nn.Conv2d(6, 16, 5),\n",
    "            nn.MaxPool2d(2, 2),\n",
    "            nn.ReLU(True),\n",
    "        )\n",
    "        self.classifier = nn.Sequential(\n",
    "            nn.Linear(16 * 4 * 4, 120),\n",
    "            nn.ReLU(),\n",
    "            nn.Linear(120, 84),\n",
    "            nn.ReLU(),\n",
    "            nn.Linear(84, 9),  # 9 classes (digits 1..9)\n",
    "            nn.Softmax(dim=1),\n",
    "        )\n",
    "\n",
    "    def forward(self, x):\n",
    "        x = self.encoder(x)\n",
    "        x = x.view(-1, 16 * 4 * 4)\n",
    "        x = self.classifier(x)\n",
    "        return x\n",
    "\n",
    "network = MNIST_Net()\n",
    "net = Network(network, \"mnist_net\", batching=True)\n",
    "net.optimizer = torch.optim.Adam(network.parameters(), lr=1e-3)\n",
    "\n",
    "# Load the \"sudoku_no_clpfd.pl\", which has `digit(...), sudoku(...)` definitions.\n",
    "model = Model(\"sudoku_model.pl\", [net])\n",
    "model.set_engine(ExactEngine(model))\n",
    "\n",
    "# Attach the dataset as a tensor source\n",
    "train_data = SudokuCellDataset(\"train\", \"../mnist_sudoku_generator/dataset/images/puzzles/train\", \"../mnist_sudoku_generator/dataset/arrays/puzzles/train\")\n",
    "model.add_tensor_source(\"train\", train_data)\n"
   ]
  },
  {
   "cell_type": "code",
   "execution_count": 5,
   "metadata": {},
   "outputs": [
    {
     "name": "stdout",
     "output_type": "stream",
     "text": [
      "Training  for 1 epoch(s)\n",
      "Epoch 1\n",
      "Iteration:  100 \ts:4.9950 \tAverage Loss:  14.251375604881286\n",
      "Iteration:  200 \ts:4.4945 \tAverage Loss:  13.930967620051248\n",
      "Iteration:  300 \ts:4.4341 \tAverage Loss:  13.819868718602917\n",
      "Iteration:  400 \ts:4.4505 \tAverage Loss:  13.77460189233665\n",
      "Iteration:  500 \ts:4.3996 \tAverage Loss:  13.774253270671322\n",
      "Iteration:  600 \ts:4.4707 \tAverage Loss:  13.700331466796424\n",
      "Iteration:  700 \ts:4.4276 \tAverage Loss:  13.72305796475496\n",
      "Iteration:  800 \ts:4.8924 \tAverage Loss:  13.72079532426276\n",
      "Iteration:  900 \ts:4.5488 \tAverage Loss:  13.71642169526322\n",
      "Iteration:  1000 \ts:4.5091 \tAverage Loss:  13.68330980060716\n",
      "Iteration:  1100 \ts:4.3821 \tAverage Loss:  13.70845503873437\n",
      "Iteration:  1200 \ts:4.4274 \tAverage Loss:  13.655003630793674\n",
      "Iteration:  1300 \ts:4.4542 \tAverage Loss:  13.731020794009732\n",
      "Iteration:  1400 \ts:4.4817 \tAverage Loss:  13.627937947417553\n",
      "Iteration:  1500 \ts:4.4970 \tAverage Loss:  13.74822774195583\n",
      "Iteration:  1600 \ts:4.5297 \tAverage Loss:  13.637590262819499\n",
      "Iteration:  1700 \ts:5.0065 \tAverage Loss:  13.685076856487264\n",
      "Iteration:  1800 \ts:4.4970 \tAverage Loss:  13.7205957838679\n",
      "Iteration:  1900 \ts:4.5235 \tAverage Loss:  13.657881002405077\n",
      "Iteration:  2000 \ts:4.5536 \tAverage Loss:  13.646232955309998\n",
      "Iteration:  2100 \ts:4.5152 \tAverage Loss:  13.681563099172521\n",
      "Iteration:  2200 \ts:4.5698 \tAverage Loss:  13.673722634505665\n",
      "Iteration:  2300 \ts:4.5511 \tAverage Loss:  13.687916217908798\n",
      "Iteration:  2400 \ts:4.6149 \tAverage Loss:  13.663966862733327\n",
      "Iteration:  2500 \ts:4.5608 \tAverage Loss:  13.693162238353954\n",
      "Epoch time:  115.26633381843567\n"
     ]
    }
   ],
   "source": [
    "# Now train the 'digit' predicate:\n",
    "from deepproblog.dataset import DataLoader\n",
    "from deepproblog.train import train_model\n",
    "from deepproblog.utils.stop_condition import Threshold\n",
    "\n",
    "stopper = Threshold('Iteration', 6000)\n",
    "\n",
    "loader = DataLoader(train_data, batch_size=32, shuffle=False)\n",
    "train_model(model, loader, 1, log_iter=100, )\n",
    "\n",
    "model.save_state(\"snapshot/trained_sudoku_digits.pth\")"
   ]
  },
  {
   "cell_type": "code",
   "execution_count": 5,
   "metadata": {},
   "outputs": [],
   "source": [
    "# Attach the dataset as a tensor source\n",
    "test_data = SudokuCellDataset(\"test\", \"../mnist_sudoku_generator/dataset/images/puzzles/test\", \"../mnist_sudoku_generator/dataset/arrays/puzzles/test\")\n",
    "model.add_tensor_source(\"test\", test_data)"
   ]
  },
  {
   "cell_type": "code",
   "execution_count": 6,
   "metadata": {},
   "outputs": [],
   "source": [
    "from deepproblog.evaluate import get_confusion_matrix\n",
    "cm = get_confusion_matrix(model, test_data)"
   ]
  },
  {
   "cell_type": "code",
   "execution_count": 7,
   "metadata": {},
   "outputs": [
    {
     "name": "stdout",
     "output_type": "stream",
     "text": [
      "Accuracy:  0.5050370370370371\n"
     ]
    },
    {
     "data": {
      "text/plain": [
       "np.float64(0.5050370370370371)"
      ]
     },
     "execution_count": 7,
     "metadata": {},
     "output_type": "execute_result"
    }
   ],
   "source": [
    "cm.accuracy()"
   ]
  },
  {
   "cell_type": "code",
   "execution_count": null,
   "metadata": {},
   "outputs": [],
   "source": [
    "print(str(cm))"
   ]
  },
  {
   "cell_type": "code",
   "execution_count": null,
   "metadata": {},
   "outputs": [],
   "source": []
  }
 ],
 "metadata": {
  "kernelspec": {
   "display_name": "prolog-venv",
   "language": "python",
   "name": "python3"
  },
  "language_info": {
   "codemirror_mode": {
    "name": "ipython",
    "version": 3
   },
   "file_extension": ".py",
   "mimetype": "text/x-python",
   "name": "python",
   "nbconvert_exporter": "python",
   "pygments_lexer": "ipython3",
   "version": "3.10.12"
  }
 },
 "nbformat": 4,
 "nbformat_minor": 2
}
