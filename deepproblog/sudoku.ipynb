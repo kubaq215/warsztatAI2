{
 "cells": [
  {
   "cell_type": "code",
   "execution_count": null,
   "metadata": {},
   "outputs": [
    {
     "data": {
      "image/png": "[encoded data removed]",
      "text/plain": [
       "<Figure size 252x252 with 1 Axes>"
      ]
     },
     "metadata": {},
     "output_type": "display_data"
    }
   ],
   "source": [
    "import matplotlib.pyplot as plt\n",
    "\n",
    "# Define the size of the grid\n",
    "rows, cols = 10, 10  # 10x10 grid\n",
    "fig, ax = plt.subplots(figsize=(28*9/100, 28*9/100), dpi=100)\n",
    "\n",
    "# Set the grid lines\n",
    "for x in range(cols + 1):\n",
    "    ax.axvline(x, color='black', linewidth=0.5)\n",
    "for y in range(rows + 1):\n",
    "    ax.axhline(y, color='black', linewidth=0.5)\n",
    "\n",
    "# Set axis limits\n",
    "ax.set_xlim(0, cols)\n",
    "ax.set_ylim(0, rows)\n",
    "\n",
    "# Remove axis ticks and labels\n",
    "ax.set_xticks([])\n",
    "ax.set_yticks([])\n",
    "\n",
    "# Remove margins\n",
    "plt.subplots_adjust(left=0, right=0, top=0, bottom=0)\n",
    "ax.set_aspect('equal')  # Ensure cells are square\n",
    "\n",
    "# Show the grid\n",
    "plt.show()\n"
   ]
  },
  {
   "cell_type": "code",
   "execution_count": null,
   "metadata": {},
   "outputs": [],
   "source": []
  }
 ],
 "metadata": {
  "kernelspec": {
   "display_name": "Python 3",
   "language": "python",
   "name": "python3"
  },
  "language_info": {
   "codemirror_mode": {
    "name": "ipython",
    "version": 3
   },
   "file_extension": ".py",
   "mimetype": "text/x-python",
   "name": "python",
   "nbconvert_exporter": "python",
   "pygments_lexer": "ipython3",
   "version": "3.10.12"
  }
 },
 "nbformat": 4,
 "nbformat_minor": 2
}
